{
 "cells": [
  {
   "cell_type": "markdown",
   "id": "99684f10-d715-429e-baeb-01f5fe6886d6",
   "metadata": {},
   "source": [
    "# Практическое задание 1\n",
    "## Общая информация\n",
    "Необходимо выполнить предложенные задания и прислать ноутбуки с готовым решением. Перед отправкой убедитесь, что все нужные выводы, графики и т.д. видны в ноутбуке (чтобы не пришлось запускать все ячейки заново).\n",
    "\n",
    "При решении работаем с NumPy array. В задачах можно и нужно использовать встроенные функции NumPy, если не указано обратное.\n",
    "\n",
    "Назвать ноутбук следует следующим образом: task-01-Surname.ipynb, где Surname - ваша фамилия."
   ]
  },
  {
   "cell_type": "markdown",
   "id": "dc2fc515-6a3d-4933-8d0e-f23ccddeb3aa",
   "metadata": {},
   "source": [
    "**0. Импортируйте NumPy как np**"
   ]
  },
  {
   "cell_type": "code",
   "execution_count": null,
   "id": "6823adeb-0428-418a-afac-9577028a7519",
   "metadata": {},
   "outputs": [],
   "source": [
    "#----- YOUR CODE HERE -----\n",
    "\n",
    "#--------------------------"
   ]
  },
  {
   "cell_type": "markdown",
   "id": "fa244659-0c48-492b-9e78-2b93fb1c8618",
   "metadata": {},
   "source": [
    "**1. Создайте $1D$ массив от $0$ до $N$, где $N$ - задаваемое вами натуральное число**"
   ]
  },
  {
   "cell_type": "code",
   "execution_count": null,
   "id": "10893443-5b79-4deb-be6d-9b2db24d9266",
   "metadata": {},
   "outputs": [],
   "source": [
    "#----- YOUR CODE HERE -----\n",
    "\n",
    "#--------------------------\n",
    "print(# ARRAY NAME)"
   ]
  },
  {
   "cell_type": "markdown",
   "id": "08f67ded-68ba-4f39-95a8-32fa433b11f3",
   "metadata": {},
   "source": [
    "**2. Создайте $1D$ массив из нулей размера $5$ и массив единиц размера $10$**"
   ]
  },
  {
   "cell_type": "code",
   "execution_count": null,
   "id": "3dbbd4a6-d46f-4ba8-9b73-9b83abb350f5",
   "metadata": {},
   "outputs": [],
   "source": [
    "#----- YOUR CODE HERE -----\n",
    "\n",
    "#--------------------------\n",
    "print(# ARRAY NAME)\n",
    "print(# ARRAY NAME)"
   ]
  },
  {
   "cell_type": "markdown",
   "id": "964dc2c2-b41b-4379-87a3-bb536cc7c79b",
   "metadata": {},
   "source": [
    "**3. Создайте $2D$ массив (матрицу) размера $N\\times N$, диагональные элементы которой равны $\\pi$**"
   ]
  },
  {
   "cell_type": "code",
   "execution_count": null,
   "id": "866eb6a7-5245-451d-8ae7-b2b3b3a8d393",
   "metadata": {},
   "outputs": [],
   "source": [
    "#----- YOUR CODE HERE -----\n",
    "\n",
    "#--------------------------\n",
    "print(# ARRAY NAME)"
   ]
  },
  {
   "cell_type": "markdown",
   "id": "84154fec-4b04-4a1b-81cb-82c198e77394",
   "metadata": {},
   "source": [
    "**4. Создайте $2D$ массив размера $N\\times N$, все элементы которой равны False**"
   ]
  },
  {
   "cell_type": "code",
   "execution_count": null,
   "id": "74f60d94-a8a9-4f91-87ce-0b7817561e44",
   "metadata": {},
   "outputs": [],
   "source": [
    "#----- YOUR CODE HERE -----\n",
    "\n",
    "#--------------------------\n",
    "print(# ARRAY NAME)\n",
    "type(# ARRAY NAME[0, 0])"
   ]
  },
  {
   "cell_type": "markdown",
   "id": "19cebfbe-d992-4f51-9129-1b4cecb7168a",
   "metadata": {},
   "source": [
    "**5. Создать массив от $0$ до $15$, заменить все четные числа на число $42$**"
   ]
  },
  {
   "cell_type": "code",
   "execution_count": null,
   "id": "5155f528-bdd9-4212-9576-b8695f912950",
   "metadata": {},
   "outputs": [],
   "source": [
    "#----- YOUR CODE HERE -----\n",
    "\n",
    "#--------------------------\n",
    "print(# ИСХОДНЫЙ МАССИВ)\n",
    "print(# НОВЫЙ МАССИВ)"
   ]
  },
  {
   "cell_type": "markdown",
   "id": "a1920aea-83c0-4720-b504-ab2abffa69f2",
   "metadata": {},
   "source": [
    "**6. Создать $1D$ массив случайных целых чисел со значениями 0 или 1. Вывести индексы ненулевых элементов массива. Найти их количество.**"
   ]
  },
  {
   "cell_type": "code",
   "execution_count": null,
   "id": "afd62e50-f945-43be-b26b-04faf70fcb5b",
   "metadata": {},
   "outputs": [],
   "source": [
    "#----- YOUR CODE HERE -----\n",
    "\n",
    "#--------------------------\n",
    "print(# ИСХОДНЫЙ МАССИВ)\n",
    "print(# ИНДЕКСЫ)\n",
    "print(# КОЛИЧЕСТВО)"
   ]
  },
  {
   "cell_type": "markdown",
   "id": "5f8ab62c-c804-40d1-92de-15376a7a1cac",
   "metadata": {},
   "source": [
    "**7. Создать $3D$ массив равномерно распределенных случайных чисел (из произвольного интервала). Вывести размерность, количество элементов вдоль каждой размерности и количество элементов в массиве.**"
   ]
  },
  {
   "cell_type": "code",
   "execution_count": null,
   "id": "aa439294-013e-4840-b5c3-6a72a444404e",
   "metadata": {},
   "outputs": [],
   "source": [
    "#----- YOUR CODE HERE -----\n",
    "\n",
    "#--------------------------\n",
    "print(\"#CODE HERE\", # CODE HERE)\n",
    "print(\"#CODE HERE\", # CODE HERE)\n",
    "print(\"#CODE HERE\", # CODE HERE)"
   ]
  },
  {
   "cell_type": "markdown",
   "id": "2e341bfe-2391-404c-ac81-4b51b4386459",
   "metadata": {},
   "source": [
    "**8. Преобразовать $1D$ массив размера $N$ в матрицу с тремя столбцами.** "
   ]
  },
  {
   "cell_type": "code",
   "execution_count": null,
   "id": "e46fd2e9-32ca-4cef-ab13-c160055c58e0",
   "metadata": {},
   "outputs": [],
   "source": [
    "#----- YOUR CODE HERE -----\n",
    "\n",
    "#--------------------------\n",
    "print(# ИСХОДНЫЙ МАССИВ)\n",
    "print(# НОВЫЙ МАССИВ)"
   ]
  },
  {
   "cell_type": "markdown",
   "id": "6618e426-f731-4e74-8be9-121e84a6c5bd",
   "metadata": {},
   "source": [
    "**9. Реализовать функцию, которая принимает на вход 2D массив с любыми значениями и два параметра: row и col. Возвращает кортеж из 2-х значений: суммы элементов row-й строки и суммы элементов col-го столбца.**"
   ]
  },
  {
   "cell_type": "code",
   "execution_count": null,
   "id": "1f1fad1e-baa0-45b5-911f-9808c4497678",
   "metadata": {},
   "outputs": [],
   "source": [
    "# # ПРИМЕР\n",
    "# [[1, 2, 3],\n",
    "#  [8, -2, 0],\n",
    "#  [-5, 3, 10]], \n",
    "# row = 2; col = 0\n",
    "# # ОТВЕТ\n",
    "# (8, 4)\n",
    "#----- YOUR CODE HERE -----\n",
    "\n",
    "#--------------------------"
   ]
  },
  {
   "cell_type": "markdown",
   "id": "c1b66b1d-2d39-4f70-9cca-6bde6502ff04",
   "metadata": {},
   "source": [
    "**10. Написать функцию, реализующую умножение двух целочисленных матриц $A$ и $B$. Провести проверку: если внутренние размерности матриц не совпадают, программа должна выдать ошибку с сообщением \"inner dimensions does not match\".**"
   ]
  },
  {
   "cell_type": "code",
   "execution_count": null,
   "id": "436aeef1-162a-45e2-93c2-45816707c9e9",
   "metadata": {},
   "outputs": [],
   "source": [
    "def mat_mul(# CODE HERE):\n",
    "    # CODE HERE\n",
    "    \n",
    "print(# A)\n",
    "print(# B)\n",
    "print(# A*B)"
   ]
  },
  {
   "cell_type": "markdown",
   "id": "32745815-7d68-478a-80a9-bddda5865b65",
   "metadata": {},
   "source": [
    "**11. Дан $1D$ массив равномерно распределенных случайных чисел в интервале от $a$ до $b$ размера $N$  (используйте `np.random.rand()`). Найдите `max`, `min`, `mean` и `median` значения**"
   ]
  },
  {
   "cell_type": "code",
   "execution_count": null,
   "id": "ba6cd371-7fed-4193-84a2-9a1c543c0d84",
   "metadata": {},
   "outputs": [],
   "source": [
    "#----- YOUR CODE HERE -----\n",
    "\n",
    "#--------------------------\n",
    "print(\"Max value: %.3f\\n\\\n",
    "Min value: %.3f\\n\\\n",
    "Mean value: %.3f\\n\\\n",
    "Median value: %.3f\\n\" % (# CODE HERE))"
   ]
  },
  {
   "cell_type": "markdown",
   "id": "fd7a813c-5dec-4c03-a146-de7ffd38e8f6",
   "metadata": {},
   "source": [
    "**12. Реализовать функцию, которая вычисляет Евклидово расстояние ($L2-$норму) между двумя массивами $a$ и $b$ длины $N$ (Использовать `np.linalg.norm` только для сравнения результата)**"
   ]
  },
  {
   "cell_type": "code",
   "execution_count": null,
   "id": "6c51f0ac-5922-41b0-b33d-6ef6b53ff61c",
   "metadata": {},
   "outputs": [],
   "source": [
    "def comp_dist(# CODE HERE):\n",
    "    # CODE HERE\n",
    "    \n",
    "print(abs(np.linalg.norm(# CODE HERE)-comp_dist(# CODE HERE)  ))"
   ]
  },
  {
   "cell_type": "code",
   "execution_count": null,
   "id": "b457c367-f17c-4de8-b6de-5a1ad6f47e22",
   "metadata": {},
   "outputs": [],
   "source": []
  }
 ],
 "metadata": {
  "kernelspec": {
   "display_name": "Python 3 (ipykernel)",
   "language": "python",
   "name": "python3"
  },
  "language_info": {
   "codemirror_mode": {
    "name": "ipython",
    "version": 3
   },
   "file_extension": ".py",
   "mimetype": "text/x-python",
   "name": "python",
   "nbconvert_exporter": "python",
   "pygments_lexer": "ipython3",
   "version": "3.9.5"
  }
 },
 "nbformat": 4,
 "nbformat_minor": 5
}
