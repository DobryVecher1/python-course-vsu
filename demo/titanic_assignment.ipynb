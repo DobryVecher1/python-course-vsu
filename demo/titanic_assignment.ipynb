{
 "metadata": {
  "language_info": {
   "codemirror_mode": {
    "name": "ipython",
    "version": 3
   },
   "file_extension": ".py",
   "mimetype": "text/x-python",
   "name": "python",
   "nbconvert_exporter": "python",
   "pygments_lexer": "ipython3",
   "version": "3.9.5"
  },
  "orig_nbformat": 4,
  "kernelspec": {
   "name": "python395jvsc74a57bd03fa3a2a7590b3915ab17662d71834416bd3a1b2d99481e19a256b8ec08b40195",
   "display_name": "Python 3.9.5 64-bit"
  },
  "interpreter": {
   "hash": "3fa3a2a7590b3915ab17662d71834416bd3a1b2d99481e19a256b8ec08b40195"
  }
 },
 "nbformat": 4,
 "nbformat_minor": 2,
 "cells": [
  {
   "source": [
    "### Titanic data analysis "
   ],
   "cell_type": "markdown",
   "metadata": {}
  },
  {
   "cell_type": "code",
   "execution_count": 9,
   "metadata": {},
   "outputs": [
    {
     "output_type": "execute_result",
     "data": {
      "text/plain": [
       "             Survived  Pclass  \\\n",
       "PassengerId                     \n",
       "1                   0       3   \n",
       "2                   1       1   \n",
       "3                   1       3   \n",
       "4                   1       1   \n",
       "5                   0       3   \n",
       "\n",
       "                                                          Name     Sex   Age  \\\n",
       "PassengerId                                                                    \n",
       "1                                      Braund, Mr. Owen Harris    male  22.0   \n",
       "2            Cumings, Mrs. John Bradley (Florence Briggs Th...  female  38.0   \n",
       "3                                       Heikkinen, Miss. Laina  female  26.0   \n",
       "4                 Futrelle, Mrs. Jacques Heath (Lily May Peel)  female  35.0   \n",
       "5                                     Allen, Mr. William Henry    male  35.0   \n",
       "\n",
       "             SibSp  Parch            Ticket     Fare Cabin Embarked  \n",
       "PassengerId                                                          \n",
       "1                1      0         A/5 21171   7.2500   NaN        S  \n",
       "2                1      0          PC 17599  71.2833   C85        C  \n",
       "3                0      0  STON/O2. 3101282   7.9250   NaN        S  \n",
       "4                1      0            113803  53.1000  C123        S  \n",
       "5                0      0            373450   8.0500   NaN        S  "
      ],
      "text/html": "<div>\n<style scoped>\n    .dataframe tbody tr th:only-of-type {\n        vertical-align: middle;\n    }\n\n    .dataframe tbody tr th {\n        vertical-align: top;\n    }\n\n    .dataframe thead th {\n        text-align: right;\n    }\n</style>\n<table border=\"1\" class=\"dataframe\">\n  <thead>\n    <tr style=\"text-align: right;\">\n      <th></th>\n      <th>Survived</th>\n      <th>Pclass</th>\n      <th>Name</th>\n      <th>Sex</th>\n      <th>Age</th>\n      <th>SibSp</th>\n      <th>Parch</th>\n      <th>Ticket</th>\n      <th>Fare</th>\n      <th>Cabin</th>\n      <th>Embarked</th>\n    </tr>\n    <tr>\n      <th>PassengerId</th>\n      <th></th>\n      <th></th>\n      <th></th>\n      <th></th>\n      <th></th>\n      <th></th>\n      <th></th>\n      <th></th>\n      <th></th>\n      <th></th>\n      <th></th>\n    </tr>\n  </thead>\n  <tbody>\n    <tr>\n      <th>1</th>\n      <td>0</td>\n      <td>3</td>\n      <td>Braund, Mr. Owen Harris</td>\n      <td>male</td>\n      <td>22.0</td>\n      <td>1</td>\n      <td>0</td>\n      <td>A/5 21171</td>\n      <td>7.2500</td>\n      <td>NaN</td>\n      <td>S</td>\n    </tr>\n    <tr>\n      <th>2</th>\n      <td>1</td>\n      <td>1</td>\n      <td>Cumings, Mrs. John Bradley (Florence Briggs Th...</td>\n      <td>female</td>\n      <td>38.0</td>\n      <td>1</td>\n      <td>0</td>\n      <td>PC 17599</td>\n      <td>71.2833</td>\n      <td>C85</td>\n      <td>C</td>\n    </tr>\n    <tr>\n      <th>3</th>\n      <td>1</td>\n      <td>3</td>\n      <td>Heikkinen, Miss. Laina</td>\n      <td>female</td>\n      <td>26.0</td>\n      <td>0</td>\n      <td>0</td>\n      <td>STON/O2. 3101282</td>\n      <td>7.9250</td>\n      <td>NaN</td>\n      <td>S</td>\n    </tr>\n    <tr>\n      <th>4</th>\n      <td>1</td>\n      <td>1</td>\n      <td>Futrelle, Mrs. Jacques Heath (Lily May Peel)</td>\n      <td>female</td>\n      <td>35.0</td>\n      <td>1</td>\n      <td>0</td>\n      <td>113803</td>\n      <td>53.1000</td>\n      <td>C123</td>\n      <td>S</td>\n    </tr>\n    <tr>\n      <th>5</th>\n      <td>0</td>\n      <td>3</td>\n      <td>Allen, Mr. William Henry</td>\n      <td>male</td>\n      <td>35.0</td>\n      <td>0</td>\n      <td>0</td>\n      <td>373450</td>\n      <td>8.0500</td>\n      <td>NaN</td>\n      <td>S</td>\n    </tr>\n  </tbody>\n</table>\n</div>"
     },
     "metadata": {},
     "execution_count": 9
    }
   ],
   "source": [
    "import numpy as np\n",
    "import pandas as pd\n",
    "\n",
    "data_set = pd.read_csv('titanic_data.csv', index_col='PassengerId')\n",
    "data_set.head()"
   ]
  },
  {
   "source": [
    "### 1) Number of man and women on Titanic"
   ],
   "cell_type": "markdown",
   "metadata": {}
  },
  {
   "cell_type": "code",
   "execution_count": 10,
   "metadata": {},
   "outputs": [
    {
     "output_type": "stream",
     "name": "stdout",
     "text": [
      "Number of men: 577\nNumber of women: 314\n"
     ]
    }
   ],
   "source": [
    "num_men = data_set.Sex.loc[data_set.Sex == 'male'].count()\n",
    "num_women = data_set.Sex.loc[data_set.Sex == 'female'].count()\n",
    "print('Number of men: %g\\nNumber of women: %g' % (num_men, num_women))\n",
    "# ----- Save file -----\n",
    "# txt_file = open('answer_1.txt', 'w')\n",
    "# arr2save = [num_men, num_women]\n",
    "# for index in arr2save:\n",
    "#     txt_file.write(\"%i \" % index)\n",
    "# txt_file.close()"
   ]
  },
  {
   "source": [
    "### 2) Fraction of survived people (0 -- no, 1 -- yes)"
   ],
   "cell_type": "markdown",
   "metadata": {}
  },
  {
   "cell_type": "code",
   "execution_count": 11,
   "metadata": {},
   "outputs": [
    {
     "output_type": "stream",
     "name": "stdout",
     "text": [
      "Percent of survived people: 38.3838\n"
     ]
    }
   ],
   "source": [
    "people = data_set.Survived\n",
    "frac_surv = people.loc[people == 1].count()/len(people)*100\n",
    "print('Percent of survived people: %g' % frac_surv)\n",
    "# ----- Save file -----\n",
    "# txt_file = open('answer_2.txt', 'w')\n",
    "# txt_file.write(\"%g \" % np.round(frac_surv, 2))\n",
    "# txt_file.close()"
   ]
  },
  {
   "source": [
    "### 3) Fraction of the passengers from the 1-st class"
   ],
   "cell_type": "markdown",
   "metadata": {}
  },
  {
   "cell_type": "code",
   "execution_count": 12,
   "metadata": {},
   "outputs": [
    {
     "output_type": "stream",
     "name": "stdout",
     "text": [
      "Percent of people from the 1-st class: 24.2424\n"
     ]
    }
   ],
   "source": [
    "class_data = data_set['Pclass']\n",
    "frac_frst_class = class_data.loc[class_data == 1].count()/len(class_data)*100\n",
    "print('Percent of people from the 1-st class: %g' % frac_frst_class)\n",
    "# ----- Save file -----\n",
    "# txt_file = open('answer_3.txt', 'w')\n",
    "# txt_file.write(\"%g \" % np.round(frac_frst_class, 2))\n",
    "# txt_file.close()"
   ]
  },
  {
   "source": [
    "### 4) Mean and median values of the passenger's age"
   ],
   "cell_type": "markdown",
   "metadata": {}
  },
  {
   "cell_type": "code",
   "execution_count": 13,
   "metadata": {},
   "outputs": [
    {
     "output_type": "stream",
     "name": "stdout",
     "text": [
      "Mean age: 29.6991\nMedian age: 28\n"
     ]
    }
   ],
   "source": [
    "mean_age = data_set['Age'].mean()\n",
    "median_age = data_set['Age'].median()\n",
    "print('Mean age: %g\\nMedian age: %g' % (mean_age, median_age))\n",
    "# ----- Save file -----\n",
    "# txt_file = open('answer_4.txt', 'w')\n",
    "# arr2save = [np.round(mean_age), np.round(median_age)]\n",
    "# for index in arr2save:\n",
    "#     txt_file.write(\"%g \" % index)\n",
    "# txt_file.close()\n"
   ]
  },
  {
   "source": [
    "### 5) Pearson correlation between SibSp and Parch columns"
   ],
   "cell_type": "markdown",
   "metadata": {}
  },
  {
   "cell_type": "code",
   "execution_count": 14,
   "metadata": {},
   "outputs": [
    {
     "output_type": "stream",
     "name": "stdout",
     "text": [
      "Pearson correlation: 0.414838\n"
     ]
    }
   ],
   "source": [
    "correlation = data_set['SibSp'].corr(data_set['Parch'])\n",
    "print('Pearson correlation: %g' % correlation)\n",
    "# ----- Save file -----\n",
    "# txt_file = open('answer_5.txt', 'w')\n",
    "# txt_file.write(\"%g \" % np.round(correlation, 2))\n",
    "# txt_file.close()"
   ]
  },
  {
   "source": [
    "### 6) The most popular female name"
   ],
   "cell_type": "markdown",
   "metadata": {}
  },
  {
   "cell_type": "code",
   "execution_count": 15,
   "metadata": {},
   "outputs": [],
   "source": [
    "def find_name(arr):\n",
    "    \"\"\"\n",
    "    Function for obtaining the name\n",
    "    \"\"\"\n",
    "    name = []\n",
    "    for ii in range(len(arr)):\n",
    "        if arr[ii] == 'Miss.':\n",
    "            name = arr[ii+1]\n",
    "            break\n",
    "        elif arr[ii][0] == '(':\n",
    "            if ii < len(arr)-1:\n",
    "                name = arr[ii][1:]\n",
    "            if ii == len(arr)-1:\n",
    "                name = arr[ii][1:-1]\n",
    "            break\n",
    "    return name\n",
    "    \n",
    "# List of female full names\n",
    "fem_name_set = data_set.Name.loc[data_set.Sex == 'female']\n",
    "# Form a list of first names\n",
    "name = []\n",
    "for ii in fem_name_set.index:\n",
    "    pass_name = fem_name_set[ii]\n",
    "    name.append(find_name(pass_name.split()))\n",
    "# Create a Series of first names\n",
    "names_data = pd.Series(name)\n",
    "most_common_name = names_data.astype('str').value_counts().index[0]\n",
    "# ----- Save file -----\n",
    "# txt_file = open('answer_6.txt', 'w')\n",
    "# txt_file.write(most_common_name)\n",
    "# txt_file.close()"
   ]
  },
  {
   "cell_type": "code",
   "execution_count": null,
   "metadata": {},
   "outputs": [],
   "source": []
  }
 ]
}