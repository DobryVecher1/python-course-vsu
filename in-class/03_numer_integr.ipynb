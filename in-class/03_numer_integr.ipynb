{
 "cells": [
  {
   "cell_type": "markdown",
   "id": "16adc299-d197-4767-8a2f-a2f8b6f6b77f",
   "metadata": {},
   "source": [
    "# Численное интегрирование\n",
    "Необходимо для функции $f(x)$ вычислить значение определенного интеграла:\n",
    "\\begin{align*}\n",
    "    I = \\int\\limits_a^b f(x)dx\n",
    "\\end{align*}\n",
    "Представим (приближенно) наш интеграл $I$ в виде квадратурной формулы:\n",
    "\\begin{align*}\n",
    "    I \\approx I_N = \\sum\\limits_{i=0}^N A_i f(\\xi_i)\n",
    "\\end{align*}\n",
    "Задача найти такие коэффициенты $A_i$ и такое разбиение (точки отсчета $\\xi_i$), при которых сумма будет приближать интеграл с желаемой точностью.\n",
    "\n",
    "## Источники\n",
    "- Н.С. Бахвалов, Н.П. Жидков, Г.М. Кобельков. Численные методы.\n",
    "- [методичка](https://mipt.ru/upload/medialibrary/235/integration.pdf)\n",
    "- [Статья хабр](https://habr.com/ru/post/420867/)"
   ]
  },
  {
   "cell_type": "code",
   "execution_count": 1,
   "id": "e01ae19f-d981-49a6-a5a3-f01750bf295f",
   "metadata": {},
   "outputs": [
    {
     "name": "stderr",
     "output_type": "stream",
     "text": [
      "C:\\Users\\Kirill\\AppData\\Local\\Temp/ipykernel_16052/882440967.py:15: UserWarning: FixedFormatter should only be used together with FixedLocator\n",
      "  ax.set_xticklabels(labels)\n"
     ]
    },
    {
     "data": {
      "image/png": "[encoded data removed]",
      "text/plain": [
       "<Figure size 720x432 with 1 Axes>"
      ]
     },
     "metadata": {
      "needs_background": "light"
     },
     "output_type": "display_data"
    }
   ],
   "source": [
    "import numpy as np\n",
    "import matplotlib.pyplot as plt\n",
    "plt.rcParams.update({'font.size': 16}) # Для изменения размера шрифта на графиках\n",
    "\n",
    "x = np.arange(0, 10)\n",
    "y = x*0\n",
    "\n",
    "fig, ax = plt.subplots(figsize=(10,6))\n",
    "ax.plot(x, y, 'k', lw=3)\n",
    "ax.set_title('Одномерная сетка с равномерным шагом')\n",
    "ax.set_yticks([]);\n",
    "labels = [item.get_text() for item in ax.get_xticklabels()]\n",
    "labels = ['', '$x_0$', '$x_1$','...','$x_{n-1}$','$x_{n}$']\n",
    "\n",
    "ax.set_xticklabels(labels)\n",
    "ax.spines['bottom'].set_position('center')\n"
   ]
  },
  {
   "cell_type": "markdown",
   "id": "d7bdd386-bca1-48fd-8d9e-e0d9e81bd81b",
   "metadata": {},
   "source": [
    "# Метод прямоугольников\n",
    "Будем на каждом отрезке $[x_i, x_{i+1}]$ приближать функцию постоянным значением. Пусть $\\xi$ является серединой отрезка $[x_i, x_{i+1}]$, тогда:\n",
    "\\begin{align*}\n",
    "    I \\approx I_N = \\sum\\limits_{i=1}^N f \\left( \\frac{x_{i-1}+x_{i}}{2} \\right)\\Delta x_i\n",
    "\\end{align*}\n",
    "В данном случае метод будет называться методом *средних прямоугольников*.\n",
    "<center><img src=\"rectangular.png\" alt=\"drawing\" width=\"900\"/></center>"
   ]
  },
  {
   "cell_type": "code",
   "execution_count": 2,
   "id": "8217f6b7-bf0f-43c8-aa93-6d5405ca419a",
   "metadata": {},
   "outputs": [
    {
     "name": "stdout",
     "output_type": "stream",
     "text": [
      "Numerical Integration result: 0.959573\n",
      "Exact solution: 0.959572\n",
      "Error: 1.07188e-06\n"
     ]
    },
    {
     "data": {
      "image/png": "[encoded data removed]",
      "text/plain": [
       "<Figure size 432x288 with 1 Axes>"
      ]
     },
     "metadata": {
      "needs_background": "light"
     },
     "output_type": "display_data"
    }
   ],
   "source": [
    "N = 1000 # Количество точек (интервалов N-1)\n",
    "x = np.linspace(0, 5, N)\n",
    "func = lambda x: x*np.exp(-x)\n",
    "plt.plot(x, func(x))\n",
    "plt.grid()\n",
    "plt.title('График функции $xe^{-x}$')\n",
    "exact_sol = 1-6/np.e**5\n",
    "\n",
    "def midpoint_rectangle(x, func):\n",
    "    dx = x[1]-x[0]\n",
    "    result = 0\n",
    "    for ii in range(1, len(x)):\n",
    "        result += func((x[ii-1]+x[ii])/2)\n",
    "    return result*dx\n",
    "\n",
    "result = midpoint_rectangle(x, func)\n",
    "print('Numerical Integration result: %g\\nExact solution: %g\\n\\\n",
    "Error: %g' % (result, exact_sol, abs(result-exact_sol)))"
   ]
  },
  {
   "cell_type": "markdown",
   "id": "6cd6f19f-ffb9-4452-8a62-aef7b01430d9",
   "metadata": {},
   "source": [
    "Необязательно выбирать точки в середине отрезка. Можно, например, взять левый или правый конец отрезка. Получим формулы *левых* и *правых прямоугольников* соответственно:\n",
    "\\begin{align*}\n",
    "    I \\approx I_{left} = \\sum\\limits_{i=1}^N f ( x_{i-1})\\Delta x_i\n",
    "\\end{align*}\n",
    "\\begin{align*}\n",
    "    I \\approx I_{right} = \\sum\\limits_{i=1}^N f ( x_{i})\\Delta x_i\n",
    "\\end{align*}"
   ]
  },
  {
   "cell_type": "code",
   "execution_count": 3,
   "id": "d9410a29-e9dc-4b63-9152-e60fe26fa5aa",
   "metadata": {},
   "outputs": [
    {
     "name": "stdout",
     "output_type": "stream",
     "text": [
      "Numerical Integration result: 0.959486\n",
      "Exact solution: 0.959572\n",
      "Error: 8.64524e-05\n",
      "----------\n",
      "Numerical Integration result: 0.959654\n",
      "Exact solution: 0.959572\n",
      "Error: 8.21649e-05\n"
     ]
    }
   ],
   "source": [
    "def left_rectangle(x, func):\n",
    "    dx = x[1]-x[0]\n",
    "    result = 0\n",
    "    for ii in range(1, len(x)):\n",
    "        result += func(x[ii-1])\n",
    "    return result*dx \n",
    "\n",
    "def right_rectangle(x, func):\n",
    "    dx = x[1]-x[0]\n",
    "    result = 0\n",
    "    for ii in range(1, len(x)):\n",
    "        result += func(x[ii])\n",
    "    return result*dx \n",
    "\n",
    "result_left = left_rectangle(x, func)\n",
    "result_right = right_rectangle(x, func)\n",
    "print('Numerical Integration result: %g\\nExact solution: %g\\n\\\n",
    "Error: %g' % (result_left, exact_sol, abs(result_left-exact_sol)))\n",
    "print('----------')\n",
    "print('Numerical Integration result: %g\\nExact solution: %g\\n\\\n",
    "Error: %g' % (result_right, exact_sol, abs(result_right-exact_sol)))"
   ]
  },
  {
   "cell_type": "markdown",
   "id": "e2d0d623-9658-4469-8ccb-d65c19011eb1",
   "metadata": {},
   "source": [
    "# Формула трапеций\n",
    "В предыдущем примере мы приближали исходную функцию постоянным значением на каждом интервале. В формуле трапеций функция $f(x)$ на каждом интервале заменяется на кусочно-линейную функцию, совпадающую с $f(x)$ в точках $x=x_{i-1}$, $x=x_{i}$:\n",
    "\\begin{align*}\n",
    "    I \\approx I_N = \\sum\\limits_{i=1}^N \\frac{f(x_{i-1})+f(x_i)}{2} \\Delta x_i\n",
    "\\end{align*}\n",
    "<center><img src=\"Trapezoid_integral.png\" alt=\"drawing\" width=\"400\"/></center>"
   ]
  },
  {
   "cell_type": "code",
   "execution_count": 4,
   "id": "8e1faac6-bc8b-4ae7-8b5e-b8c4ed75fa76",
   "metadata": {},
   "outputs": [
    {
     "name": "stdout",
     "output_type": "stream",
     "text": [
      "Numerical Integration result: 0.95957\n",
      "Exact solution: 0.959572\n",
      "Error: 2.14377e-06\n"
     ]
    }
   ],
   "source": [
    "def trapez(x, func):\n",
    "    dx = x[1]-x[0]\n",
    "    result = 0\n",
    "    for ii in range(1, len(x)):\n",
    "        result += (func(x[ii-1]) + func(x[ii]))/2\n",
    "    return result*dx \n",
    "\n",
    "result_trapez = trapez(x, func)\n",
    "print('Numerical Integration result: %g\\nExact solution: %g\\n\\\n",
    "Error: %g' % (result_trapez, exact_sol, abs(result_trapez-exact_sol)))\n",
    "\n"
   ]
  },
  {
   "cell_type": "markdown",
   "id": "545b7c5a-13b0-41ad-86f0-4364ea7dc372",
   "metadata": {},
   "source": [
    "# Формула Симпсона"
   ]
  },
  {
   "cell_type": "markdown",
   "id": "065a8162-650f-4646-b121-6238f50ac799",
   "metadata": {},
   "source": [
    "Можно пойти дальше и заменить исходную функцию на параболу на отрезке $[x_{i-1}, x_i]$. Тогда формула будет иметь вид:\n",
    "\\begin{align*}\n",
    "    I \\approx I_N = \\sum\\limits_{i=1}^N \\frac{f(x_{i-1})+4f(\\frac{x_{i-1}+x_i}{2})+f(x_i)  }{6} \\Delta x_i\n",
    "\\end{align*}\n",
    "<center><img src=\"Simpson_integral.png\" alt=\"drawing\" width=\"700\"/></center>"
   ]
  },
  {
   "cell_type": "code",
   "execution_count": 5,
   "id": "4916b682-1103-42b4-a783-7d8409159499",
   "metadata": {},
   "outputs": [
    {
     "name": "stdout",
     "output_type": "stream",
     "text": [
      "Numerical Integration result: 0.959572\n",
      "Exact solution: 0.959572\n",
      "Error: 6.56697e-13\n"
     ]
    }
   ],
   "source": [
    "def simpson(x, func):\n",
    "    dx = x[1]-x[0]\n",
    "    result = 0\n",
    "    for ii in range(1, len(x)):\n",
    "        term_1 = func(x[ii-1])\n",
    "        term_2 = 4*func((x[ii-1]+x[ii])/2)\n",
    "        term_3 = func(x[ii])\n",
    "        result += 1/6*(term_1+term_2+term_3)\n",
    "    return result*dx \n",
    "    \n",
    "result_simpson = simpson(x, func)\n",
    "print('Numerical Integration result: %g\\nExact solution: %g\\n\\\n",
    "Error: %g' % (result_simpson, exact_sol, abs(result_simpson-exact_sol)))"
   ]
  },
  {
   "cell_type": "markdown",
   "id": "0b65caee-b93e-4907-b66d-661409cf7351",
   "metadata": {},
   "source": [
    "Рассмотренные выше формулы относятся к подходу/методу *Ньютона-Котеса*. Идея заключается в замене исходной функции $f(x)$ на некоторую интегрируемую функцию $P(x)$, которая является, например, многочленом, тригонометрическим или экспоненциальным полиномом и т.д. Если рассматриваем случай, когда $P(x)$ - многочлен, то задачу приближения исходной функции можно решить, например, с помощью интерполяции Лагранжа. На каждом интервале аппроксимируем с помощью $P_n(x)$:\n",
    "- $n=0$ - ступенчатая интерполяция,\n",
    "- $n=1$ - кусочно-линейная интерполяция,\n",
    "- $n=2$ - параболическая интерполяция.\n",
    "\n",
    "Для $n \\ge 10$ формулы становятся неустойчивыми."
   ]
  },
  {
   "cell_type": "code",
   "execution_count": null,
   "id": "d2d636be-41f9-44ab-b655-54eedb145b32",
   "metadata": {},
   "outputs": [],
   "source": []
  }
 ],
 "metadata": {
  "kernelspec": {
   "display_name": "Python 3 (ipykernel)",
   "language": "python",
   "name": "python3"
  },
  "language_info": {
   "codemirror_mode": {
    "name": "ipython",
    "version": 3
   },
   "file_extension": ".py",
   "mimetype": "text/x-python",
   "name": "python",
   "nbconvert_exporter": "python",
   "pygments_lexer": "ipython3",
   "version": "3.9.5"
  }
 },
 "nbformat": 4,
 "nbformat_minor": 5
}
