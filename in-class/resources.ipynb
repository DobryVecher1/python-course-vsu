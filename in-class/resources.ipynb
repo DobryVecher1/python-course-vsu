{
 "cells": [
  {
   "cell_type": "markdown",
   "id": "243acd3a-5268-411b-8d65-8ebccda4039e",
   "metadata": {},
   "source": [
    "## Поиск статей: \n",
    "- [Google Scholar](https://scholar.google.ru/)\n",
    "- [ResearchGate](https://www.researchgate.net/)\n",
    "- [IEEE](https://ieeexplore.ieee.org/Xplore/home.jsp)\n",
    "- Sci-Hub\n",
    "- Library Genesis\n",
    "\n",
    "## Работа с литературой (reference managers):\n",
    "- [Mendeley](https://www.mendeley.com/)\n",
    "- [Zotero](https://www.zotero.org/)\n",
    "- И другие\n",
    "\n",
    "## Работа с картинками:\n",
    "- [Gimp](https://www.gimp.org/)\n",
    "- [Inkscape](https://inkscape.org/ru/)\n",
    "- И другие"
   ]
  },
  {
   "cell_type": "code",
   "execution_count": null,
   "id": "bcf35266-3c03-4c27-894d-2106e647141d",
   "metadata": {},
   "outputs": [],
   "source": []
  }
 ],
 "metadata": {
  "kernelspec": {
   "display_name": "Python 3 (ipykernel)",
   "language": "python",
   "name": "python3"
  },
  "language_info": {
   "codemirror_mode": {
    "name": "ipython",
    "version": 3
   },
   "file_extension": ".py",
   "mimetype": "text/x-python",
   "name": "python",
   "nbconvert_exporter": "python",
   "pygments_lexer": "ipython3",
   "version": "3.9.5"
  }
 },
 "nbformat": 4,
 "nbformat_minor": 5
}
