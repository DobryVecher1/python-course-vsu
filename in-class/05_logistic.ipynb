{
 "cells": [
  {
   "cell_type": "markdown",
   "metadata": {},
   "source": [
    "# Логистическая регрессия\n",
    "Рассмотрим задачу *классификации*, когда нам требуется обучить алгоритм, который будет относить объект к одному из классов. В частности рассмотрим бинарную классификацию, когда имеется всего два класса, например $\\{+1, -1\\}$.\n",
    "\n",
    "Линейную модель классификации можно определить так:\n",
    "\\begin{align*}\n",
    "    a(x) = sign(x^Tw).\n",
    "\\end{align*}\n",
    "\n",
    "Если имеем дело в бинарной классификацией, описанной выше, можем ввести понятие *отступа* (margin) в следующем виде:\n",
    "\\begin{align*}\n",
    "    M_i = y_i f(x_i) = y_ix_i^Tw,\n",
    "\\end{align*}\n",
    "где $y_i-$ ответ для $i$-го объекта. Если алгоритм правильно классифицирует объект, то отступ равен $1$, иначе $-1$.\n",
    "\n",
    "Как и раньше, необходимо решить, какую функцию потерь будем минимизировать. Самый простой вариант - пороговая функция потерь:\n",
    "\\begin{align*}\n",
    "    L_i = [y_i^{true} \\neq y_i^{pred}] = [M_i \\leq 0].\n",
    "\\end{align*}\n",
    "Но это функция негладкая, поэтому с ней будут проблемы при нахождении минимума. Для решения этой проблемы обычно берут гладкий функционал, который аппроксимирует исходный."
   ]
  },
  {
   "cell_type": "markdown",
   "metadata": {},
   "source": [
    "<center><img src=\"loss_func.png\" alt=\"drawing\" width=\"700\"/></center>\n",
    "\n",
    "Для логистической регрессии функция потерь имеет следующий вид:\n",
    "\\begin{align*}\n",
    "    L = \\frac{1}{n}\\sum\\limits_{i=1}^n log\\left[1+exp(-M_i) \\right].\n",
    "\\end{align*}\n",
    "\n",
    "В нашем примере рассмотрим выборку с двумя признаками. Тогда:\n",
    "\\begin{align*}\n",
    "    L = \\frac{1}{n}\\sum\\limits_{i=1}^n log\\left[1+e^{-y_i(w_1x_{i1}+w_2 x_{i2})} \\right].\n",
    "\\end{align*}\n",
    "Если добавить $L2$ регуляризацию (помогает избежать переобучения):\n",
    "\\begin{align*}\n",
    "    L = \\frac{1}{n}\\sum\\limits_{i=1}^n log\\left[1+e^{-y_i(w_1x_{i1}+w_2 x_{i2})} \\right] + \\frac{1}{2}C||w||^2.\n",
    "\\end{align*}\n",
    "\n",
    "При решении оптимизационной задачи будем пользоваться методом градиентного спуска. Для этого нам понадобятся выражения для производных функции потерь по параметрам $w_1$ и $w_2$:\n",
    "\\begin{align*}\n",
    "    w_1^{(k+1)}=w_1^{(k)}+\\lambda\\frac{1}{n}\\sum\\limits_{i=1}^n y_ix_{i1}\\left(1-\\sigma(M_i)\\right) - \\lambda C w_1,\n",
    "\\end{align*}\n",
    "\n",
    "\\begin{align*}\n",
    "    w_2^{(k+1)}=w_2^{(k)}+\\lambda\\frac{1}{n}\\sum\\limits_{i=1}^n y_ix_{i2}\\left(1-\\sigma(M_i)\\right) - \\lambda C w_2,\n",
    "\\end{align*}\n",
    "где функция $\\sigma(x) = \\frac{1}{1+e^{-x}}$ - *сигмоида* (sigmoid function)."
   ]
  },
  {
   "cell_type": "code",
   "execution_count": 1,
   "metadata": {},
   "outputs": [
    {
     "data": {
      "image/png": "[encoded data removed]",
      "text/plain": [
       "<Figure size 432x288 with 1 Axes>"
      ]
     },
     "metadata": {
      "needs_background": "light"
     },
     "output_type": "display_data"
    }
   ],
   "source": [
    "import numpy as np\n",
    "import matplotlib.pyplot as plt\n",
    "x = np.linspace(-10, 10, 100)\n",
    "sigm = lambda x: 1/(1+np.exp(-x))\n",
    "\n",
    "plt.plot(x, sigm(x))\n",
    "plt.grid()"
   ]
  },
  {
   "cell_type": "code",
   "execution_count": 2,
   "metadata": {},
   "outputs": [],
   "source": [
    "import numpy as np\n",
    "import pandas as pd\n",
    "from sklearn.metrics import roc_auc_score\n",
    "import matplotlib.pyplot as plt\n",
    "\n",
    "col_names = ['Target_variable', 'x_1', 'x_2']\n",
    "df = pd.read_csv('data-logistic.csv', names=col_names)\n",
    "# целевая переменная\n",
    "y = df['Target_variable']\n",
    "# объекты-признаки\n",
    "X = df.loc[:, df.columns != 'Target_variable']"
   ]
  },
  {
   "cell_type": "code",
   "execution_count": 3,
   "metadata": {},
   "outputs": [],
   "source": [
    "def grad_descent(X, y, init_vec, c_regul):\n",
    "    \"\"\"\n",
    "    Function for gradient descent alrorithm for logistic regression\n",
    "    \"\"\"\n",
    "    def sigmoid_func(x):\n",
    "        return 1/(1+np.exp(-x))\n",
    "    \n",
    "    # Темп обучения\n",
    "    lr = 0.1\n",
    "    # Точность\n",
    "    tol = 1e-5\n",
    "    # Максимальное кол-во итераций\n",
    "    max_iter = 1e4\n",
    "    w_1 = init_vec[0]; w_2 = init_vec[1]\n",
    "    num_elem = len(X)\n",
    "    num_iter = 0\n",
    "    while num_iter < max_iter:\n",
    "        num_iter += 1\n",
    "        w_1_new = w_1 - lr*c_regul*w_1 \\\n",
    "            + lr/num_elem*np.sum(y*X['x_1']*(1-sigmoid_func(y*(w_1*X['x_1']+w_2*X['x_2']))))\n",
    "        w_2_new = w_2 - lr*c_regul*w_2 \\\n",
    "            + lr/num_elem*np.sum(y*X['x_2']*(1-sigmoid_func(y*(w_1*X['x_1']+w_2*X['x_2']))))\n",
    "        if (np.linalg.norm(w_1_new-w_1) <= tol) or (np.linalg.norm(w_2_new-w_2) <= tol):\n",
    "            w_1 = w_1_new\n",
    "            w_2 = w_2_new\n",
    "            break \n",
    "        w_1 = w_1_new\n",
    "        w_2 = w_2_new\n",
    "\n",
    "    return w_1, w_2"
   ]
  },
  {
   "cell_type": "code",
   "execution_count": 4,
   "metadata": {},
   "outputs": [],
   "source": [
    "# Параметр регуляризации (C=0, если нет регуляризации)\n",
    "c_regul = 1\n",
    "# Начальный вектор\n",
    "init_vec = [0, 0]\n",
    "# Найдем параметр без и с регуляризацией\n",
    "w_1_reg, w_2_reg = grad_descent(X, y, init_vec, c_regul)\n",
    "w_1_noreg, w_2_noreg = grad_descent(X, y, init_vec, 0)\n",
    "# Найдем условные вероятности принадлежности к классу\n",
    "probs_reg = 1/(1+np.exp(-w_1_reg*X['x_1']-w_2_reg*X['x_2']))\n",
    "probs_noreg = 1/(1+np.exp(-w_1_noreg*X['x_1']-w_2_noreg*X['x_2']))"
   ]
  },
  {
   "cell_type": "markdown",
   "metadata": {},
   "source": [
    "Пояснение к поледнему выражению: вероятность принадлежности объекта к классу \"+1\" равна $p=\\sigma \\left(x^T w \\right)$"
   ]
  },
  {
   "cell_type": "code",
   "execution_count": 5,
   "metadata": {},
   "outputs": [],
   "source": [
    "# Оценим качество с помощью метрики AUC-ROC\n",
    "roc_reg = roc_auc_score(y, probs_reg)\n",
    "roc_noreg = roc_auc_score(y, probs_noreg)"
   ]
  },
  {
   "cell_type": "code",
   "execution_count": 6,
   "metadata": {},
   "outputs": [
    {
     "name": "stdout",
     "output_type": "stream",
     "text": [
      "0.9369523809523809 0.9268571428571428\n"
     ]
    }
   ],
   "source": [
    "print(roc_reg, roc_noreg)"
   ]
  },
  {
   "cell_type": "code",
   "execution_count": null,
   "metadata": {},
   "outputs": [],
   "source": []
  }
 ],
 "metadata": {
  "interpreter": {
   "hash": "3fa3a2a7590b3915ab17662d71834416bd3a1b2d99481e19a256b8ec08b40195"
  },
  "kernelspec": {
   "display_name": "Python 3 (ipykernel)",
   "language": "python",
   "name": "python3"
  },
  "language_info": {
   "codemirror_mode": {
    "name": "ipython",
    "version": 3
   },
   "file_extension": ".py",
   "mimetype": "text/x-python",
   "name": "python",
   "nbconvert_exporter": "python",
   "pygments_lexer": "ipython3",
   "version": "3.9.5"
  }
 },
 "nbformat": 4,
 "nbformat_minor": 4
}
