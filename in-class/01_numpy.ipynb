{
 "cells": [
  {
   "cell_type": "markdown",
   "source": [
    "## Ноутбук с примерами работы встроенных функций NumPy"
   ],
   "metadata": {}
  },
  {
   "cell_type": "code",
   "execution_count": 1,
   "source": [
    "# Лист (list)\r\n",
    "x = [[1, 2, 3], [6, 3, 1]]\r\n",
    "print(x)"
   ],
   "outputs": [
    {
     "output_type": "stream",
     "name": "stdout",
     "text": [
      "[[1, 2, 3], [6, 3, 1]]\n"
     ]
    }
   ],
   "metadata": {}
  },
  {
   "cell_type": "code",
   "execution_count": 2,
   "source": [
    "# Кортеж (tuple)\r\n",
    "a = tuple(x)\r\n",
    "print(a)"
   ],
   "outputs": [
    {
     "output_type": "stream",
     "name": "stdout",
     "text": [
      "([1, 2, 3], [6, 3, 1])\n"
     ]
    }
   ],
   "metadata": {}
  },
  {
   "cell_type": "code",
   "execution_count": 3,
   "source": [
    "# Словарь (dictionary)\r\n",
    "dict = {'key': 6, 'val': 5}\r\n",
    "print(dict['val'])"
   ],
   "outputs": [
    {
     "output_type": "stream",
     "name": "stdout",
     "text": [
      "5\n"
     ]
    }
   ],
   "metadata": {}
  },
  {
   "cell_type": "code",
   "execution_count": 4,
   "source": [
    "import numpy as np"
   ],
   "outputs": [],
   "metadata": {}
  },
  {
   "cell_type": "code",
   "execution_count": 5,
   "source": [
    "np.array([1, 4, 2, 5, 3])"
   ],
   "outputs": [
    {
     "output_type": "execute_result",
     "data": {
      "text/plain": [
       "array([1, 4, 2, 5, 3])"
      ]
     },
     "metadata": {},
     "execution_count": 5
    }
   ],
   "metadata": {}
  },
  {
   "cell_type": "code",
   "execution_count": 6,
   "source": [
    "print([1, 2, 3, '4', 6])\r\n",
    "print(np.array([1, 2, 3, '4', 6]))"
   ],
   "outputs": [
    {
     "output_type": "stream",
     "name": "stdout",
     "text": [
      "[1, 2, 3, '4', 6]\n",
      "['1' '2' '3' '4' '6']\n"
     ]
    }
   ],
   "metadata": {}
  },
  {
   "cell_type": "code",
   "execution_count": 7,
   "source": [
    "# Двумерный массив\r\n",
    "x = np.array([[1, 2, 3],\r\n",
    "        [5, 5,3],\r\n",
    "        [5, 6 , 8]])\r\n",
    "print(x)\r\n",
    "print(x[2, 1])"
   ],
   "outputs": [
    {
     "output_type": "stream",
     "name": "stdout",
     "text": [
      "[[1 2 3]\n",
      " [5 5 3]\n",
      " [5 6 8]]\n",
      "6\n"
     ]
    }
   ],
   "metadata": {}
  },
  {
   "cell_type": "code",
   "execution_count": 8,
   "source": [
    "print( np.zeros((7), dtype=int) ) # Массив из нулей\r\n",
    "print( np.ones((2, 3), dtype=float) ) # Массив из единиц\r\n",
    "print( np.full((3, 5), 3.14) ) # Массив, елементы которого принимают желаемое значение\r\n",
    "print( np.eye(3, dtype=int) ) # Единичная матрица\r\n"
   ],
   "outputs": [
    {
     "output_type": "stream",
     "name": "stdout",
     "text": [
      "[0 0 0 0 0 0 0]\n",
      "[[1. 1. 1.]\n",
      " [1. 1. 1.]]\n",
      "[[3.14 3.14 3.14 3.14 3.14]\n",
      " [3.14 3.14 3.14 3.14 3.14]\n",
      " [3.14 3.14 3.14 3.14 3.14]]\n",
      "[[1 0 0]\n",
      " [0 1 0]\n",
      " [0 0 1]]\n"
     ]
    }
   ],
   "metadata": {}
  },
  {
   "cell_type": "code",
   "execution_count": 9,
   "source": [
    "x = np.arange(10, 0, -1)\r\n",
    "t = np.linspace(5, 21, 5, dtype=int)\r\n",
    "print(x)\r\n",
    "print(t)"
   ],
   "outputs": [
    {
     "output_type": "stream",
     "name": "stdout",
     "text": [
      "[10  9  8  7  6  5  4  3  2  1]\n",
      "[ 5  9 13 17 21]\n"
     ]
    }
   ],
   "metadata": {}
  },
  {
   "cell_type": "code",
   "execution_count": 10,
   "source": [
    "import matplotlib.pyplot as plt\r\n",
    "t = np.linspace(0, 1, 1000)\r\n",
    "y = np.sin(2*np.pi*3*t)\r\n",
    "plt.plot(t, y)"
   ],
   "outputs": [
    {
     "output_type": "execute_result",
     "data": {
      "text/plain": [
       "[<matplotlib.lines.Line2D at 0x1c41f15a670>]"
      ]
     },
     "metadata": {},
     "execution_count": 10
    },
    {
     "output_type": "display_data",
     "data": {
      "text/plain": [
       "<Figure size 432x288 with 1 Axes>"
      ],
      "image/png": "[encoded data removed]"
     },
     "metadata": {
      "needs_background": "light"
     }
    }
   ],
   "metadata": {}
  },
  {
   "cell_type": "code",
   "execution_count": 11,
   "source": [
    "print('value: %.2f %d %%' % (5.256, 10.7))"
   ],
   "outputs": [
    {
     "output_type": "stream",
     "name": "stdout",
     "text": [
      "value: 5.26 10 %\n"
     ]
    }
   ],
   "metadata": {}
  },
  {
   "cell_type": "code",
   "execution_count": 12,
   "source": [
    "# Массив с равномерно распределенными случайными числами из интервала [0, 1), заданного размера\r\n",
    "print( np.random.random((2, 3)) )\r\n",
    "# Случайные целые числа из интервала (здесь [-2, 25]), заданного размера\r\n",
    "print( np.random.randint(-2, 25, size=(3, 3)))\r\n"
   ],
   "outputs": [
    {
     "output_type": "stream",
     "name": "stdout",
     "text": [
      "[[0.22376596 0.17946355 0.52276202]\n",
      " [0.63160221 0.44987375 0.36134884]]\n",
      "[[10 16  4]\n",
      " [ 4  6 19]\n",
      " [ 2 15  2]]\n"
     ]
    }
   ],
   "metadata": {}
  },
  {
   "cell_type": "markdown",
   "source": [
    "| Data type\t    | Description |\n",
    "|---------------|-------------|\n",
    "| ``bool_``     | Boolean (True or False) stored as a byte |\n",
    "| ``int_``      | Default integer type (same as C ``long``; normally either ``int64`` or ``int32``)| \n",
    "| ``intc``      | Identical to C ``int`` (normally ``int32`` or ``int64``)| \n",
    "| ``intp``      | Integer used for indexing (same as C ``ssize_t``; normally either ``int32`` or ``int64``)| \n",
    "| ``int8``      | Byte (-128 to 127)| \n",
    "| ``int16``     | Integer (-32768 to 32767)|\n",
    "| ``int32``     | Integer (-2147483648 to 2147483647)|\n",
    "| ``int64``     | Integer (-9223372036854775808 to 9223372036854775807)| \n",
    "| ``uint8``     | Unsigned integer (0 to 255)| \n",
    "| ``uint16``    | Unsigned integer (0 to 65535)| \n",
    "| ``uint32``    | Unsigned integer (0 to 4294967295)| \n",
    "| ``uint64``    | Unsigned integer (0 to 18446744073709551615)| \n",
    "| ``float_``    | Shorthand for ``float64``.| \n",
    "| ``float16``   | Half precision float: sign bit, 5 bits exponent, 10 bits mantissa| \n",
    "| ``float32``   | Single precision float: sign bit, 8 bits exponent, 23 bits mantissa| \n",
    "| ``float64``   | Double precision float: sign bit, 11 bits exponent, 52 bits mantissa| \n",
    "| ``complex_``  | Shorthand for ``complex128``.| \n",
    "| ``complex64`` | Complex number, represented by two 32-bit floats| \n",
    "| ``complex128``| Complex number, represented by two 64-bit floats| "
   ],
   "metadata": {}
  },
  {
   "cell_type": "code",
   "execution_count": 13,
   "source": [
    "# Характеристики массивов\r\n",
    "x1 = np.random.randint(10, size=6)  # 1D массив\r\n",
    "x2 = np.random.randint(10, size=(3, 4))  # 2D массив\r\n",
    "x3 = np.random.randint(10, size=(3, 4, 5))  # 3D массив\r\n",
    "\r\n",
    "print(\"x2 ndim: \", x2.ndim)\r\n",
    "print(\"x3 shape:\", x3.shape)\r\n",
    "print(\"x1 size: \", x1.size)\r\n",
    "\r\n",
    "print(\"dtype:\", x3.dtype)"
   ],
   "outputs": [
    {
     "output_type": "stream",
     "name": "stdout",
     "text": [
      "x2 ndim:  2\n",
      "x3 shape: (3, 4, 5)\n",
      "x1 size:  6\n",
      "dtype: int32\n"
     ]
    }
   ],
   "metadata": {}
  },
  {
   "cell_type": "code",
   "execution_count": 14,
   "source": [
    "print(np.size(x3, 2)) # Размер массива вдоль выбранной размерности\r\n",
    "print(x3)"
   ],
   "outputs": [
    {
     "output_type": "stream",
     "name": "stdout",
     "text": [
      "5\n",
      "[[[6 5 0 2 3]\n",
      "  [5 5 9 3 3]\n",
      "  [7 1 0 3 5]\n",
      "  [1 2 9 8 1]]\n",
      "\n",
      " [[0 8 6 1 0]\n",
      "  [8 3 1 0 3]\n",
      "  [0 0 7 9 1]\n",
      "  [5 8 5 2 6]]\n",
      "\n",
      " [[3 0 0 1 6]\n",
      "  [4 1 8 7 0]\n",
      "  [4 2 4 6 1]\n",
      "  [3 8 2 5 6]]]\n"
     ]
    }
   ],
   "metadata": {}
  },
  {
   "cell_type": "code",
   "execution_count": 15,
   "source": [
    "# Доступ к элементам\r\n",
    "# x[start:stop:step]\r\n",
    "print(x2)\r\n",
    "print(  x2[0:3, 2]  )"
   ],
   "outputs": [
    {
     "output_type": "stream",
     "name": "stdout",
     "text": [
      "[[1 2 5 6]\n",
      " [6 8 7 3]\n",
      " [1 5 3 7]]\n",
      "[5 7 3]\n"
     ]
    }
   ],
   "metadata": {}
  },
  {
   "cell_type": "code",
   "execution_count": 16,
   "source": [
    "print(x1)\r\n",
    "x1[-3]"
   ],
   "outputs": [
    {
     "output_type": "stream",
     "name": "stdout",
     "text": [
      "[4 7 1 9 6 5]\n"
     ]
    },
    {
     "output_type": "execute_result",
     "data": {
      "text/plain": [
       "9"
      ]
     },
     "metadata": {},
     "execution_count": 16
    }
   ],
   "metadata": {}
  },
  {
   "cell_type": "code",
   "execution_count": 17,
   "source": [
    "# Про изменения  оригинальном массиве и копии (x.copy())\r\n",
    "x = np.array([[1,2,3], [5,6,7], [9,-4,7]])\r\n",
    "print(x)\r\n",
    "x_sub = x[:2, :2]\r\n",
    "print(x_sub)\r\n",
    "x_sub[0, 1] = 42\r\n",
    "print(x_sub)\r\n",
    "print(x)\r\n",
    "\r\n",
    "x_new = x.copy()"
   ],
   "outputs": [
    {
     "output_type": "stream",
     "name": "stdout",
     "text": [
      "[[ 1  2  3]\n",
      " [ 5  6  7]\n",
      " [ 9 -4  7]]\n",
      "[[1 2]\n",
      " [5 6]]\n",
      "[[ 1 42]\n",
      " [ 5  6]]\n",
      "[[ 1 42  3]\n",
      " [ 5  6  7]\n",
      " [ 9 -4  7]]\n"
     ]
    }
   ],
   "metadata": {}
  },
  {
   "cell_type": "code",
   "execution_count": 18,
   "source": [
    "x = np.arange(1, 9)\r\n",
    "print(x)\r\n",
    "grid = x.reshape((2, 4))\r\n",
    "print(grid)"
   ],
   "outputs": [
    {
     "output_type": "stream",
     "name": "stdout",
     "text": [
      "[1 2 3 4 5 6 7 8]\n",
      "[[1 2 3 4]\n",
      " [5 6 7 8]]\n"
     ]
    }
   ],
   "metadata": {}
  },
  {
   "cell_type": "code",
   "execution_count": 19,
   "source": [
    "# np.concatenate, np.vstack,  np.hstack\r\n",
    "x = np.array([1, 2, 3])\r\n",
    "y = np.array(['fe3', 'rh2', 'aef1'])\r\n",
    "print(np.concatenate([x, y]))\r\n",
    "print(np.vstack([x, [[5, 6, 7], [8, 6, 1], [0, 9, 1]]]))"
   ],
   "outputs": [
    {
     "output_type": "stream",
     "name": "stdout",
     "text": [
      "['1' '2' '3' 'fe3' 'rh2' 'aef1']\n",
      "[[1 2 3]\n",
      " [5 6 7]\n",
      " [8 6 1]\n",
      " [0 9 1]]\n"
     ]
    }
   ],
   "metadata": {}
  },
  {
   "cell_type": "code",
   "execution_count": 20,
   "source": [
    "str(66452)"
   ],
   "outputs": [
    {
     "output_type": "execute_result",
     "data": {
      "text/plain": [
       "'66452'"
      ]
     },
     "metadata": {},
     "execution_count": 20
    }
   ],
   "metadata": {}
  },
  {
   "cell_type": "code",
   "execution_count": 21,
   "source": [
    "# np.split, np.hsplit, np.vsplit\r\n",
    "\r\n",
    "x = [1, 2, 3, 99, 99, 3, 2, 1]\r\n",
    "x1, x2, x3 = np.split(x, [3, 5])\r\n",
    "#print(x1, x2, x3)\r\n",
    "\r\n",
    "grid = np.arange(16).reshape((4, 4))\r\n",
    "upper, lower = np.vsplit(grid, [2])\r\n",
    "print(grid)\r\n",
    "print(upper)\r\n",
    "print(lower)"
   ],
   "outputs": [
    {
     "output_type": "stream",
     "name": "stdout",
     "text": [
      "[[ 0  1  2  3]\n",
      " [ 4  5  6  7]\n",
      " [ 8  9 10 11]\n",
      " [12 13 14 15]]\n",
      "[[0 1 2 3]\n",
      " [4 5 6 7]]\n",
      "[[ 8  9 10 11]\n",
      " [12 13 14 15]]\n"
     ]
    }
   ],
   "metadata": {}
  },
  {
   "cell_type": "markdown",
   "source": [
    "|Function Name      |   NaN-safe Version  | Description                                   |\n",
    "|-------------------|---------------------|-----------------------------------------------|\n",
    "| ``np.sum``        | ``np.nansum``       | Compute sum of elements                       |\n",
    "| ``np.prod``       | ``np.nanprod``      | Compute product of elements                   |\n",
    "| ``np.mean``       | ``np.nanmean``      | Compute mean of elements                      |\n",
    "| ``np.std``        | ``np.nanstd``       | Compute standard deviation                    |\n",
    "| ``np.var``        | ``np.nanvar``       | Compute variance                              |\n",
    "| ``np.min``        | ``np.nanmin``       | Find minimum value                            |\n",
    "| ``np.max``        | ``np.nanmax``       | Find maximum value                            |\n",
    "| ``np.argmin``     | ``np.nanargmin``    | Find index of minimum value                   |\n",
    "| ``np.argmax``     | ``np.nanargmax``    | Find index of maximum value                   |\n",
    "| ``np.median``     | ``np.nanmedian``    | Compute median of elements                    |\n",
    "| ``np.percentile`` | ``np.nanpercentile``| Compute rank-based statistics of elements     |\n",
    "| ``np.any``        | N/A                 | Evaluate whether any elements are true        |\n",
    "| ``np.all``        | N/A                 | Evaluate whether all elements are true        |\n"
   ],
   "metadata": {}
  },
  {
   "cell_type": "code",
   "execution_count": 22,
   "source": [
    "arr = np.random.rand(1000000)\r\n",
    "%timeit sum(arr)\r\n",
    "%timeit np.sum(arr)"
   ],
   "outputs": [
    {
     "output_type": "stream",
     "name": "stdout",
     "text": [
      "182 ms ± 9.16 ms per loop (mean ± std. dev. of 7 runs, 1 loop each)\n"
     ]
    }
   ],
   "metadata": {}
  },
  {
   "cell_type": "code",
   "execution_count": null,
   "source": [
    "a = [10, 20, 30, 40]\r\n",
    "b = ['a', 'b', 'c', 'd', 'e']\r\n",
    "for i, j in zip(a, b):\r\n",
    "    print(i, j)"
   ],
   "outputs": [
    {
     "output_type": "stream",
     "name": "stdout",
     "text": [
      "10 a\n",
      "20 b\n",
      "30 c\n",
      "40 d\n"
     ]
    }
   ],
   "metadata": {}
  }
 ],
 "metadata": {
  "interpreter": {
   "hash": "3fa3a2a7590b3915ab17662d71834416bd3a1b2d99481e19a256b8ec08b40195"
  },
  "kernelspec": {
   "name": "python3",
   "display_name": "Python 3.9.5 64-bit"
  },
  "language_info": {
   "codemirror_mode": {
    "name": "ipython",
    "version": 3
   },
   "file_extension": ".py",
   "mimetype": "text/x-python",
   "name": "python",
   "nbconvert_exporter": "python",
   "pygments_lexer": "ipython3",
   "version": "3.9.5"
  }
 },
 "nbformat": 4,
 "nbformat_minor": 2
}